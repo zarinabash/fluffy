{
 "cells": [
  {
   "cell_type": "code",
   "execution_count": 16,
   "metadata": {},
   "outputs": [
    {
     "name": "stdout",
     "output_type": "stream",
     "text": [
      "(293289, 59)\n"
     ]
    },
    {
     "data": {
      "text/html": [
       "<div>\n",
       "<style scoped>\n",
       "    .dataframe tbody tr th:only-of-type {\n",
       "        vertical-align: middle;\n",
       "    }\n",
       "\n",
       "    .dataframe tbody tr th {\n",
       "        vertical-align: top;\n",
       "    }\n",
       "\n",
       "    .dataframe thead th {\n",
       "        text-align: right;\n",
       "    }\n",
       "</style>\n",
       "<table border=\"1\" class=\"dataframe\">\n",
       "  <thead>\n",
       "    <tr style=\"text-align: right;\">\n",
       "      <th></th>\n",
       "      <th>id</th>\n",
       "      <th>target</th>\n",
       "      <th>ps_ind_01</th>\n",
       "      <th>ps_ind_02_cat</th>\n",
       "      <th>ps_ind_03</th>\n",
       "      <th>ps_ind_04_cat</th>\n",
       "      <th>ps_ind_05_cat</th>\n",
       "      <th>ps_ind_06_bin</th>\n",
       "      <th>ps_ind_07_bin</th>\n",
       "      <th>ps_ind_08_bin</th>\n",
       "      <th>...</th>\n",
       "      <th>ps_calc_11</th>\n",
       "      <th>ps_calc_12</th>\n",
       "      <th>ps_calc_13</th>\n",
       "      <th>ps_calc_14</th>\n",
       "      <th>ps_calc_15_bin</th>\n",
       "      <th>ps_calc_16_bin</th>\n",
       "      <th>ps_calc_17_bin</th>\n",
       "      <th>ps_calc_18_bin</th>\n",
       "      <th>ps_calc_19_bin</th>\n",
       "      <th>ps_calc_20_bin</th>\n",
       "    </tr>\n",
       "  </thead>\n",
       "  <tbody>\n",
       "    <tr>\n",
       "      <td>0</td>\n",
       "      <td>7</td>\n",
       "      <td>0</td>\n",
       "      <td>2</td>\n",
       "      <td>2</td>\n",
       "      <td>5</td>\n",
       "      <td>1</td>\n",
       "      <td>0</td>\n",
       "      <td>0</td>\n",
       "      <td>1</td>\n",
       "      <td>0.0</td>\n",
       "      <td>...</td>\n",
       "      <td>9.0</td>\n",
       "      <td>1.0</td>\n",
       "      <td>5.0</td>\n",
       "      <td>8.0</td>\n",
       "      <td>0.0</td>\n",
       "      <td>1.0</td>\n",
       "      <td>1.0</td>\n",
       "      <td>0.0</td>\n",
       "      <td>0.0</td>\n",
       "      <td>1.0</td>\n",
       "    </tr>\n",
       "    <tr>\n",
       "      <td>1</td>\n",
       "      <td>9</td>\n",
       "      <td>0</td>\n",
       "      <td>1</td>\n",
       "      <td>1</td>\n",
       "      <td>7</td>\n",
       "      <td>0</td>\n",
       "      <td>0</td>\n",
       "      <td>0</td>\n",
       "      <td>0</td>\n",
       "      <td>1.0</td>\n",
       "      <td>...</td>\n",
       "      <td>3.0</td>\n",
       "      <td>1.0</td>\n",
       "      <td>1.0</td>\n",
       "      <td>9.0</td>\n",
       "      <td>0.0</td>\n",
       "      <td>1.0</td>\n",
       "      <td>1.0</td>\n",
       "      <td>0.0</td>\n",
       "      <td>1.0</td>\n",
       "      <td>0.0</td>\n",
       "    </tr>\n",
       "    <tr>\n",
       "      <td>2</td>\n",
       "      <td>13</td>\n",
       "      <td>0</td>\n",
       "      <td>5</td>\n",
       "      <td>4</td>\n",
       "      <td>9</td>\n",
       "      <td>1</td>\n",
       "      <td>0</td>\n",
       "      <td>0</td>\n",
       "      <td>0</td>\n",
       "      <td>1.0</td>\n",
       "      <td>...</td>\n",
       "      <td>4.0</td>\n",
       "      <td>2.0</td>\n",
       "      <td>7.0</td>\n",
       "      <td>7.0</td>\n",
       "      <td>0.0</td>\n",
       "      <td>1.0</td>\n",
       "      <td>1.0</td>\n",
       "      <td>0.0</td>\n",
       "      <td>1.0</td>\n",
       "      <td>0.0</td>\n",
       "    </tr>\n",
       "    <tr>\n",
       "      <td>3</td>\n",
       "      <td>16</td>\n",
       "      <td>0</td>\n",
       "      <td>0</td>\n",
       "      <td>1</td>\n",
       "      <td>2</td>\n",
       "      <td>0</td>\n",
       "      <td>0</td>\n",
       "      <td>1</td>\n",
       "      <td>0</td>\n",
       "      <td>0.0</td>\n",
       "      <td>...</td>\n",
       "      <td>2.0</td>\n",
       "      <td>2.0</td>\n",
       "      <td>4.0</td>\n",
       "      <td>9.0</td>\n",
       "      <td>0.0</td>\n",
       "      <td>0.0</td>\n",
       "      <td>0.0</td>\n",
       "      <td>0.0</td>\n",
       "      <td>0.0</td>\n",
       "      <td>0.0</td>\n",
       "    </tr>\n",
       "    <tr>\n",
       "      <td>4</td>\n",
       "      <td>17</td>\n",
       "      <td>0</td>\n",
       "      <td>0</td>\n",
       "      <td>2</td>\n",
       "      <td>0</td>\n",
       "      <td>1</td>\n",
       "      <td>0</td>\n",
       "      <td>1</td>\n",
       "      <td>0</td>\n",
       "      <td>0.0</td>\n",
       "      <td>...</td>\n",
       "      <td>3.0</td>\n",
       "      <td>1.0</td>\n",
       "      <td>1.0</td>\n",
       "      <td>3.0</td>\n",
       "      <td>0.0</td>\n",
       "      <td>0.0</td>\n",
       "      <td>0.0</td>\n",
       "      <td>1.0</td>\n",
       "      <td>1.0</td>\n",
       "      <td>0.0</td>\n",
       "    </tr>\n",
       "  </tbody>\n",
       "</table>\n",
       "<p>5 rows × 59 columns</p>\n",
       "</div>"
      ],
      "text/plain": [
       "   id  target  ps_ind_01  ps_ind_02_cat  ps_ind_03  ps_ind_04_cat  \\\n",
       "0   7       0          2              2          5              1   \n",
       "1   9       0          1              1          7              0   \n",
       "2  13       0          5              4          9              1   \n",
       "3  16       0          0              1          2              0   \n",
       "4  17       0          0              2          0              1   \n",
       "\n",
       "   ps_ind_05_cat  ps_ind_06_bin  ps_ind_07_bin  ps_ind_08_bin  ...  \\\n",
       "0              0              0              1            0.0  ...   \n",
       "1              0              0              0            1.0  ...   \n",
       "2              0              0              0            1.0  ...   \n",
       "3              0              1              0            0.0  ...   \n",
       "4              0              1              0            0.0  ...   \n",
       "\n",
       "   ps_calc_11  ps_calc_12  ps_calc_13  ps_calc_14  ps_calc_15_bin  \\\n",
       "0         9.0         1.0         5.0         8.0             0.0   \n",
       "1         3.0         1.0         1.0         9.0             0.0   \n",
       "2         4.0         2.0         7.0         7.0             0.0   \n",
       "3         2.0         2.0         4.0         9.0             0.0   \n",
       "4         3.0         1.0         1.0         3.0             0.0   \n",
       "\n",
       "   ps_calc_16_bin  ps_calc_17_bin  ps_calc_18_bin  ps_calc_19_bin  \\\n",
       "0             1.0             1.0             0.0             0.0   \n",
       "1             1.0             1.0             0.0             1.0   \n",
       "2             1.0             1.0             0.0             1.0   \n",
       "3             0.0             0.0             0.0             0.0   \n",
       "4             0.0             0.0             1.0             1.0   \n",
       "\n",
       "   ps_calc_20_bin  \n",
       "0             1.0  \n",
       "1             0.0  \n",
       "2             0.0  \n",
       "3             0.0  \n",
       "4             0.0  \n",
       "\n",
       "[5 rows x 59 columns]"
      ]
     },
     "execution_count": 16,
     "metadata": {},
     "output_type": "execute_result"
    }
   ],
   "source": [
    "import pandas as pd\n",
    "import numpy as np\n",
    "import matplotlib.pyplot as plt\n",
    "\n",
    "\n",
    "from sklearn.ensemble import RandomForestClassifier\n",
    "from sklearn.linear_model import LogisticRegression\n",
    "%matplotlib inline\n",
    "\n",
    "train = pd.read_csv(r'C:\\Users\\Zarina Basheer\\Downloads\\Zarina ICTAK\\MiniProjectSelected\\train.csv') \n",
    "\n",
    "print (train.shape)\n",
    "\n",
    "train.head()\n",
    "\n",
    "#X_train"
   ]
  },
  {
   "cell_type": "code",
   "execution_count": 47,
   "metadata": {},
   "outputs": [
    {
     "data": {
      "text/plain": [
       "Text(0.5, 0, 'target')"
      ]
     },
     "execution_count": 47,
     "metadata": {},
     "output_type": "execute_result"
    },
    {
     "data": {
      "image/png": "[encoded data removed]",
      "text/plain": [
       "<Figure size 432x288 with 1 Axes>"
      ]
     },
     "metadata": {
      "needs_background": "light"
     },
     "output_type": "display_data"
    }
   ],
   "source": [
    "# Graph to show the Higly Imbalanced Data. To Predict the Column ['target']. Right now.. majority of records/rows with 'Target=0'\n",
    "# And few records with 'Target = 1'\n",
    "pd.value_counts(train['target']).plot.bar()\n",
    "plt.title('Target class histogram')\n",
    "plt.xlabel('target')\n"
   ]
  },
  {
   "cell_type": "code",
   "execution_count": 17,
   "metadata": {},
   "outputs": [
    {
     "data": {
      "text/html": [
       "<div>\n",
       "<style scoped>\n",
       "    .dataframe tbody tr th:only-of-type {\n",
       "        vertical-align: middle;\n",
       "    }\n",
       "\n",
       "    .dataframe tbody tr th {\n",
       "        vertical-align: top;\n",
       "    }\n",
       "\n",
       "    .dataframe thead th {\n",
       "        text-align: right;\n",
       "    }\n",
       "</style>\n",
       "<table border=\"1\" class=\"dataframe\">\n",
       "  <thead>\n",
       "    <tr style=\"text-align: right;\">\n",
       "      <th></th>\n",
       "      <th>Feature</th>\n",
       "      <th>Number of Data Records Missing</th>\n",
       "    </tr>\n",
       "  </thead>\n",
       "  <tbody>\n",
       "    <tr>\n",
       "      <td>0</td>\n",
       "      <td>ps_car_03_cat</td>\n",
       "      <td>202759</td>\n",
       "    </tr>\n",
       "    <tr>\n",
       "      <td>1</td>\n",
       "      <td>ps_car_05_cat</td>\n",
       "      <td>131284</td>\n",
       "    </tr>\n",
       "    <tr>\n",
       "      <td>2</td>\n",
       "      <td>ps_reg_03</td>\n",
       "      <td>53200</td>\n",
       "    </tr>\n",
       "    <tr>\n",
       "      <td>3</td>\n",
       "      <td>ps_car_14</td>\n",
       "      <td>20951</td>\n",
       "    </tr>\n",
       "    <tr>\n",
       "      <td>4</td>\n",
       "      <td>ps_car_07_cat</td>\n",
       "      <td>5533</td>\n",
       "    </tr>\n",
       "  </tbody>\n",
       "</table>\n",
       "</div>"
      ],
      "text/plain": [
       "         Feature  Number of Data Records Missing\n",
       "0  ps_car_03_cat                          202759\n",
       "1  ps_car_05_cat                          131284\n",
       "2      ps_reg_03                           53200\n",
       "3      ps_car_14                           20951\n",
       "4  ps_car_07_cat                            5533"
      ]
     },
     "execution_count": 17,
     "metadata": {},
     "output_type": "execute_result"
    }
   ],
   "source": [
    "# Top 5 features with most missing data in training dataset\n",
    "train = train.replace(-1, np.nan)\n",
    "train_missing = train.isnull().sum().sort_values(ascending=False)\n",
    "train_missing = pd.DataFrame(train_missing).reset_index()\n",
    "train_missing.columns = ['Feature', 'Number of Data Records Missing']\n",
    "train_missing.head()"
   ]
  },
  {
   "cell_type": "code",
   "execution_count": 10,
   "metadata": {},
   "outputs": [
    {
     "data": {
      "image/png": "[encoded data removed]",
      "text/plain": [
       "<Figure size 1000x400 with 1 Axes>"
      ]
     },
     "metadata": {
      "needs_background": "light"
     },
     "output_type": "display_data"
    }
   ],
   "source": [
    "# Visualize the percentage of data missing\n",
    "train_missingpercent = 100 * (train.isnull().sum()/train.isnull().count()).sort_values(ascending=False)\n",
    "\n",
    "plt.figure(figsize = (10, 4), dpi = 100)\n",
    "plt.bar(np.arange(5), train_missingpercent[:5], align='center', alpha=0.5)\n",
    "plt.xticks(np.arange(5), train_missingpercent.index[:5], fontsize=12)\n",
    "plt.ylim(0, 100)\n",
    "plt.ylabel('Percentage of Data Missing', fontsize = 14)\n",
    "plt.title('5 Features with Most Data Missing in Training Dataset', fontsize = 14) \n",
    "# plt.savefig('5 Features with Most Data Missing in Training Dataset.jpg')\n",
    "plt.show()\n"
   ]
  },
  {
   "cell_type": "code",
   "execution_count": 18,
   "metadata": {},
   "outputs": [
    {
     "data": {
      "text/plain": [
       "id                  int64\n",
       "target              int64\n",
       "ps_ind_01           int64\n",
       "ps_ind_02_cat     float64\n",
       "ps_ind_03           int64\n",
       "ps_ind_04_cat     float64\n",
       "ps_ind_05_cat     float64\n",
       "ps_ind_06_bin       int64\n",
       "ps_ind_07_bin       int64\n",
       "ps_ind_08_bin     float64\n",
       "ps_ind_09_bin     float64\n",
       "ps_ind_10_bin     float64\n",
       "ps_ind_11_bin     float64\n",
       "ps_ind_12_bin     float64\n",
       "ps_ind_13_bin     float64\n",
       "ps_ind_14         float64\n",
       "ps_ind_15         float64\n",
       "ps_ind_16_bin     float64\n",
       "ps_ind_17_bin     float64\n",
       "ps_ind_18_bin     float64\n",
       "ps_reg_01         float64\n",
       "ps_reg_02         float64\n",
       "ps_reg_03         float64\n",
       "ps_car_01_cat     float64\n",
       "ps_car_02_cat     float64\n",
       "ps_car_04_cat     float64\n",
       "ps_car_06_cat     float64\n",
       "ps_car_07_cat     float64\n",
       "ps_car_08_cat     float64\n",
       "ps_car_09_cat     float64\n",
       "ps_car_10_cat     float64\n",
       "ps_car_11_cat     float64\n",
       "ps_car_11         float64\n",
       "ps_car_12         float64\n",
       "ps_car_13         float64\n",
       "ps_car_14         float64\n",
       "ps_car_15         float64\n",
       "ps_calc_01        float64\n",
       "ps_calc_02        float64\n",
       "ps_calc_03        float64\n",
       "ps_calc_04        float64\n",
       "ps_calc_05        float64\n",
       "ps_calc_06        float64\n",
       "ps_calc_07        float64\n",
       "ps_calc_08        float64\n",
       "ps_calc_09        float64\n",
       "ps_calc_10        float64\n",
       "ps_calc_11        float64\n",
       "ps_calc_12        float64\n",
       "ps_calc_13        float64\n",
       "ps_calc_14        float64\n",
       "ps_calc_15_bin    float64\n",
       "ps_calc_16_bin    float64\n",
       "ps_calc_17_bin    float64\n",
       "ps_calc_18_bin    float64\n",
       "ps_calc_19_bin    float64\n",
       "ps_calc_20_bin    float64\n",
       "dtype: object"
      ]
     },
     "execution_count": 18,
     "metadata": {},
     "output_type": "execute_result"
    }
   ],
   "source": [
    "# drop features 'ps_car_03_cat' and 'ps_car_05_cat'\n",
    "train = train.drop(['ps_car_03_cat', 'ps_car_05_cat'], axis = 1)\n",
    "\n",
    "train.shape\n",
    "train.dtypes"
   ]
  },
  {
   "cell_type": "code",
   "execution_count": 20,
   "metadata": {},
   "outputs": [
    {
     "data": {
      "image/png": "[encoded data removed]",
      "text/plain": [
       "<Figure size 432x288 with 2 Axes>"
      ]
     },
     "metadata": {
      "needs_background": "light"
     },
     "output_type": "display_data"
    },
    {
     "data": {
      "text/plain": [
       "<Figure size 2200x1100 with 0 Axes>"
      ]
     },
     "metadata": {},
     "output_type": "display_data"
    }
   ],
   "source": [
    "# visualize the correlation between remaining features\n",
    "import seaborn as sns\n",
    "corr = train.corr()\n",
    "sns.heatmap(corr)\n",
    "plt.title(\"Correlation Between Features\", fontsize = 14)\n",
    "plt.xticks(rotation = 'vertical')\n",
    "plt.figure(figsize = (20,10), dpi= 110)\n",
    "# plt.savefig('Correlation Between Features.jpg')\n",
    "plt.show()\n"
   ]
  },
  {
   "cell_type": "code",
   "execution_count": 21,
   "metadata": {},
   "outputs": [
    {
     "name": "stdout",
     "output_type": "stream",
     "text": [
      "(293289, 37)\n"
     ]
    }
   ],
   "source": [
    "# drop features with '_calc_' in feature names\n",
    "feature_calc = list(train.columns[train.columns.str.contains('_calc_')])\n",
    "train = train.drop(feature_calc, axis = 1)\n",
    "print (train.shape)\n"
   ]
  },
  {
   "cell_type": "code",
   "execution_count": 22,
   "metadata": {},
   "outputs": [],
   "source": [
    "# replace missing data in the remaining features\n",
    "feature_bin = [f for f in train.columns if f.endswith('bin')] \n",
    "feature_cat = [f for f in train.columns if f.endswith('cat')] \n",
    "feature_els = [f for f in train.columns if (f not in feature_bin) & (f not in feature_cat) & (f not in ['id', 'target'])]\n"
   ]
  },
  {
   "cell_type": "code",
   "execution_count": 23,
   "metadata": {},
   "outputs": [
    {
     "data": {
      "text/plain": [
       "<Figure size 2200x2200 with 0 Axes>"
      ]
     },
     "execution_count": 23,
     "metadata": {},
     "output_type": "execute_result"
    },
    {
     "data": {
      "text/plain": [
       "<Figure size 2200x2200 with 0 Axes>"
      ]
     },
     "metadata": {},
     "output_type": "display_data"
    }
   ],
   "source": [
    "for f in (feature_bin + feature_cat):\n",
    "    train[f].fillna(value=train[f].mode()[0], inplace=True)\n",
    "   \n",
    "for f in feature_els:\n",
    "    train[f].fillna(value=train[f].mean(), inplace=True)\n",
    "\n",
    "# Visualize binary features data and categorical features data (for styling, plot only features with 2 unique values)\n",
    "plt.figure(figsize=(20, 20), dpi = 110)"
   ]
  },
  {
   "cell_type": "code",
   "execution_count": 25,
   "metadata": {},
   "outputs": [
    {
     "data": {
      "image/png": "[encoded data removed]",
      "text/plain": [
       "<Figure size 432x288 with 15 Axes>"
      ]
     },
     "metadata": {
      "needs_background": "light"
     },
     "output_type": "display_data"
    }
   ],
   "source": [
    "count = 0\n",
    "\n",
    "for f in (feature_bin + feature_cat):\n",
    "    if  train[f].nunique() <= 2:\n",
    "        ax = plt.subplot(4, 4, count+1)\n",
    "        sns.countplot(train[f])\n",
    "        plt.xlabel(f, fontsize = 14)\n",
    "        plt.ylabel(\"Count\", fontsize = 12)\n",
    "        plt.ylim(0, 600000)\n",
    "        count += 1\n",
    "        \n",
    "# plt.savefig('Feature Data Distribution.jpg')\n",
    "plt.show()\n",
    "\n",
    "# ####"
   ]
  },
  {
   "cell_type": "code",
   "execution_count": 26,
   "metadata": {},
   "outputs": [
    {
     "name": "stdout",
     "output_type": "stream",
     "text": [
      "Zero 282585\n",
      "One 10704\n"
     ]
    }
   ],
   "source": [
    "# Class count\n",
    "count_class_0, count_class_1 = train.target.value_counts()\n",
    "\n",
    "# Divide by class\n",
    "df_class_0 = train[train['target'] == 0]\n",
    "df_class_1 = train[train['target'] == 1]\n",
    "print('Zero',count_class_0)\n",
    "print('One',count_class_1)"
   ]
  },
  {
   "cell_type": "code",
   "execution_count": 27,
   "metadata": {},
   "outputs": [
    {
     "name": "stdout",
     "output_type": "stream",
     "text": [
      "Random under-sampling:\n",
      "1    10704\n",
      "0    10704\n",
      "Name: target, dtype: int64\n"
     ]
    },
    {
     "data": {
      "image/png": "[encoded data removed]",
      "text/plain": [
       "<Figure size 432x288 with 1 Axes>"
      ]
     },
     "metadata": {
      "needs_background": "light"
     },
     "output_type": "display_data"
    }
   ],
   "source": [
    "# Doing Random Undersampling \n",
    "df_class_0_under = df_class_0.sample(count_class_1)\n",
    "df_test_under = pd.concat([df_class_0_under, df_class_1], axis=0)\n",
    "\n",
    "print('Random under-sampling:')\n",
    "print(df_test_under.target.value_counts())\n",
    "\n",
    "df_test_under.target.value_counts().plot(kind='bar', title='Count (target)');"
   ]
  },
  {
   "cell_type": "code",
   "execution_count": 28,
   "metadata": {},
   "outputs": [
    {
     "data": {
      "text/plain": [
       "id                 int64\n",
       "target             int64\n",
       "ps_ind_01          int64\n",
       "ps_ind_02_cat    float64\n",
       "ps_ind_03          int64\n",
       "ps_ind_04_cat    float64\n",
       "ps_ind_05_cat    float64\n",
       "ps_ind_06_bin      int64\n",
       "ps_ind_07_bin      int64\n",
       "ps_ind_08_bin    float64\n",
       "ps_ind_09_bin    float64\n",
       "ps_ind_10_bin    float64\n",
       "ps_ind_11_bin    float64\n",
       "ps_ind_12_bin    float64\n",
       "ps_ind_13_bin    float64\n",
       "ps_ind_14        float64\n",
       "ps_ind_15        float64\n",
       "ps_ind_16_bin    float64\n",
       "ps_ind_17_bin    float64\n",
       "ps_ind_18_bin    float64\n",
       "ps_reg_01        float64\n",
       "ps_reg_02        float64\n",
       "ps_reg_03        float64\n",
       "ps_car_01_cat    float64\n",
       "ps_car_02_cat    float64\n",
       "ps_car_04_cat    float64\n",
       "ps_car_06_cat    float64\n",
       "ps_car_07_cat    float64\n",
       "ps_car_08_cat    float64\n",
       "ps_car_09_cat    float64\n",
       "ps_car_10_cat    float64\n",
       "ps_car_11_cat    float64\n",
       "ps_car_11        float64\n",
       "ps_car_12        float64\n",
       "ps_car_13        float64\n",
       "ps_car_14        float64\n",
       "ps_car_15        float64\n",
       "dtype: object"
      ]
     },
     "execution_count": 28,
     "metadata": {},
     "output_type": "execute_result"
    }
   ],
   "source": [
    "df_test_under.dtypes"
   ]
  },
  {
   "cell_type": "code",
   "execution_count": 29,
   "metadata": {},
   "outputs": [
    {
     "data": {
      "text/plain": [
       "(21408, 37)"
      ]
     },
     "execution_count": 29,
     "metadata": {},
     "output_type": "execute_result"
    }
   ],
   "source": [
    "df_test_under.shape"
   ]
  },
  {
   "cell_type": "code",
   "execution_count": 30,
   "metadata": {
    "collapsed": true
   },
   "outputs": [
    {
     "name": "stdout",
     "output_type": "stream",
     "text": [
      "(21408, 35)\n",
      "ps_ind_01          int64\n",
      "ps_ind_02_cat    float64\n",
      "ps_ind_03          int64\n",
      "ps_ind_04_cat    float64\n",
      "ps_ind_05_cat    float64\n",
      "ps_ind_06_bin      int64\n",
      "ps_ind_07_bin      int64\n",
      "ps_ind_08_bin    float64\n",
      "ps_ind_09_bin    float64\n",
      "ps_ind_10_bin    float64\n",
      "ps_ind_11_bin    float64\n",
      "ps_ind_12_bin    float64\n",
      "ps_ind_13_bin    float64\n",
      "ps_ind_14        float64\n",
      "ps_ind_15        float64\n",
      "ps_ind_16_bin    float64\n",
      "ps_ind_17_bin    float64\n",
      "ps_ind_18_bin    float64\n",
      "ps_reg_01        float64\n",
      "ps_reg_02        float64\n",
      "ps_reg_03        float64\n",
      "ps_car_01_cat    float64\n",
      "ps_car_02_cat    float64\n",
      "ps_car_04_cat    float64\n",
      "ps_car_06_cat    float64\n",
      "ps_car_07_cat    float64\n",
      "ps_car_08_cat    float64\n",
      "ps_car_09_cat    float64\n",
      "ps_car_10_cat    float64\n",
      "ps_car_11_cat    float64\n",
      "ps_car_11        float64\n",
      "ps_car_12        float64\n",
      "ps_car_13        float64\n",
      "ps_car_14        float64\n",
      "ps_car_15        float64\n",
      "dtype: object\n",
      "(21408,)\n"
     ]
    }
   ],
   "source": [
    "# From Now modelling with Undersampled and balanced Data\n",
    "train2=df_test_under\n",
    "y = train2['target']\n",
    "X = train2.drop(['target', 'id'], axis=1)\n",
    "print(X.shape)\n",
    "print(X.dtypes)\n",
    "print(y.shape)"
   ]
  },
  {
   "cell_type": "code",
   "execution_count": null,
   "metadata": {},
   "outputs": [],
   "source": []
  },
  {
   "cell_type": "code",
   "execution_count": null,
   "metadata": {},
   "outputs": [],
   "source": []
  },
  {
   "cell_type": "code",
   "execution_count": 31,
   "metadata": {},
   "outputs": [],
   "source": [
    "from sklearn.model_selection import train_test_split\n",
    "X_train,X_test,y_train,y_test= train_test_split(X,y,test_size=0.3,random_state=42) \n"
   ]
  },
  {
   "cell_type": "code",
   "execution_count": 32,
   "metadata": {},
   "outputs": [],
   "source": [
    "# Standard Scalar\n",
    "from sklearn.preprocessing import StandardScaler\n",
    "sc = StandardScaler()\n",
    "X_train = sc.fit_transform(X_train)\n",
    "X_test = sc.transform(X_test)\n"
   ]
  },
  {
   "cell_type": "code",
   "execution_count": 37,
   "metadata": {},
   "outputs": [],
   "source": [
    "#Model Number One Logistic Regresssion\n",
    "from sklearn.linear_model import LogisticRegression\n",
    "#classifier = LogisticRegression(class_weight={0:0, 1:1},random_state = 42 ,solver='lbfgs')\n",
    "#classifier = LogisticRegression(class_weight='balanced',random_state = 0 ,solver='lbfgs')\n",
    "classifier = LogisticRegression(random_state = 42 ,solver='lbfgs')\n",
    "classifier.fit(X_train,y_train)\n",
    "\n",
    "y_pred = classifier.predict(X_test)\n",
    "#y_pred "
   ]
  },
  {
   "cell_type": "code",
   "execution_count": 38,
   "metadata": {},
   "outputs": [
    {
     "name": "stdout",
     "output_type": "stream",
     "text": [
      "Confusion Matrix:  [[2020 1223]\n",
      " [1436 1744]]\n",
      "Precision Score:  0.5877991236939669\n",
      "Recall Score:  0.5484276729559748\n",
      "Accuracy Score:  0.5860189942394519\n",
      "F1 Score:  0.5674312672848544\n",
      "              precision    recall  f1-score   support\n",
      "\n",
      "           0       0.58      0.62      0.60      3243\n",
      "           1       0.59      0.55      0.57      3180\n",
      "\n",
      "    accuracy                           0.59      6423\n",
      "   macro avg       0.59      0.59      0.59      6423\n",
      "weighted avg       0.59      0.59      0.59      6423\n",
      "\n"
     ]
    }
   ],
   "source": [
    "from sklearn.metrics import confusion_matrix\n",
    "cm=confusion_matrix(y_test,y_pred)\n",
    "print('Confusion Matrix: ', cm)\n",
    "\n",
    "from sklearn.metrics import precision_score\n",
    "pr=precision_score(y_test,y_pred)\n",
    "print('Precision Score: ', pr)\n",
    "\n",
    "from sklearn.metrics import recall_score\n",
    "rc=recall_score(y_test,y_pred)\n",
    "print('Recall Score: ', rc)\n",
    "\n",
    "from sklearn.metrics import accuracy_score\n",
    "ac=accuracy_score(y_test,y_pred)\n",
    "print('Accuracy Score: ', ac)\n",
    "\n",
    "from sklearn.metrics import f1_score\n",
    "Fone=f1_score(y_test,y_pred)\n",
    "print('F1 Score: ',Fone)\n",
    "\n",
    "from sklearn.metrics import classification_report\n",
    "print (classification_report(y_test,y_pred))"
   ]
  },
  {
   "cell_type": "code",
   "execution_count": null,
   "metadata": {},
   "outputs": [],
   "source": [
    "## Predict Proba\n",
    "#y_prob=classifier.predict_proba(X_test)\n",
    "#y_pred_prob=y_prob[:,1]\n",
    "#y_pred_prob=y_pred_prob.astype(int)\n",
    "#accuracy_score(y_test,y_pred_prob)\n",
    "#print (classification_report(y_test,y_pred_prob))\n",
    "## standardization of non categorical features\n",
    "##feature_non_cat = [f for f in train.columns if (f.endswith('cat') != True) & (f not in ['id', 'target'])]\n"
   ]
  },
  {
   "cell_type": "code",
   "execution_count": 43,
   "metadata": {},
   "outputs": [
    {
     "name": "stderr",
     "output_type": "stream",
     "text": [
      "C:\\Users\\Zarina Basheer\\New folder\\lib\\site-packages\\sklearn\\ensemble\\forest.py:245: FutureWarning: The default value of n_estimators will change from 10 in version 0.20 to 100 in 0.22.\n",
      "  \"10 in version 0.20 to 100 in 0.22.\", FutureWarning)\n"
     ]
    },
    {
     "name": "stdout",
     "output_type": "stream",
     "text": [
      "Precision Score Random Forest:  0.5535714285714286\n",
      "Recall Score Random Forest:  0.44842767295597485\n",
      "Accuracy Score Random Forest:  0.5478748248482018\n",
      "F1 Score Random Forest:  0.49548297428769983\n",
      "              precision    recall  f1-score   support\n",
      "\n",
      "           0       0.54      0.65      0.59      3243\n",
      "           1       0.55      0.45      0.50      3180\n",
      "\n",
      "    accuracy                           0.55      6423\n",
      "   macro avg       0.55      0.55      0.54      6423\n",
      "weighted avg       0.55      0.55      0.54      6423\n",
      "\n"
     ]
    }
   ],
   "source": [
    "### Model Number Two Random Forest #####\n",
    "from sklearn.ensemble import RandomForestClassifier\n",
    "rclf = RandomForestClassifier()\n",
    "rclf.fit(X_train,y_train)\n",
    "y_pred_rclf = rclf.predict(X_test)\n",
    "cm_rclf=confusion_matrix(y_test,y_pred_rclf)\n",
    "#print('Confusion Matrix Random Forest:' )\n",
    "#cm_rclf\n",
    "\n",
    "prlf=precision_score(y_test,y_pred_rclf)\n",
    "print('Precision Score Random Forest: ', prlf)\n",
    "\n",
    "rrlf=recall_score(y_test,y_pred_rclf)\n",
    "print('Recall Score Random Forest: ', rrlf)\n",
    "\n",
    "acclf=accuracy_score(y_test,y_pred_rclf)\n",
    "print('Accuracy Score Random Forest: ', acclf)\n",
    "\n",
    "frlf=f1_score(y_test,y_pred_rclf)\n",
    "print('F1 Score Random Forest: ', frlf)\n",
    "\n",
    "print (classification_report(y_test,y_pred_rclf))"
   ]
  },
  {
   "cell_type": "code",
   "execution_count": null,
   "metadata": {},
   "outputs": [],
   "source": [
    "#y_prob_rclf=rclf.predict_proba(X_test)\n",
    "#y_pred_prob_rclf=y_prob_rclf[:,1]\n",
    "#y_pred_prob_rclf=y_pred_prob_rclf.astype(int)\n",
    "#accuracy_score(y_test,y_pred_prob_rclf)\n",
    "#print (classification_report(y_test,y_pred_prob_rclf))"
   ]
  },
  {
   "cell_type": "code",
   "execution_count": 44,
   "metadata": {},
   "outputs": [],
   "source": [
    "# Model Number Three KNeighbors ##\n",
    "\n",
    "from sklearn.neighbors import KNeighborsClassifier\n",
    "classifier = KNeighborsClassifier(n_neighbors=5,metric='minkowski',p=2)\n",
    "classifier.fit(X_train,y_train)from sklearn.metrics import confusion_matrix\n",
    "y_pred=classifier.predict(X_test)\n"
   ]
  },
  {
   "cell_type": "code",
   "execution_count": 45,
   "metadata": {},
   "outputs": [
    {
     "data": {
      "text/plain": [
       "array([[1805, 1438],\n",
       "       [1506, 1674]], dtype=int64)"
      ]
     },
     "execution_count": 45,
     "metadata": {},
     "output_type": "execute_result"
    }
   ],
   "source": [
    "from sklearn.metrics import confusion_matrix\n",
    "cmknn=confusion_matrix(y_test,y_pred)\n",
    "cmknn"
   ]
  },
  {
   "cell_type": "code",
   "execution_count": 46,
   "metadata": {},
   "outputs": [
    {
     "name": "stdout",
     "output_type": "stream",
     "text": [
      "Precision Score KNeighbors :  0.537917737789203\n",
      "Recall Score KNeighbors:  0.5264150943396226\n",
      "Accuracy Score KNeighbors:  0.5416472053557527\n",
      "F1 Score KNeighbors:  0.5321042593769866\n",
      "              precision    recall  f1-score   support\n",
      "\n",
      "           0       0.55      0.56      0.55      3243\n",
      "           1       0.54      0.53      0.53      3180\n",
      "\n",
      "    accuracy                           0.54      6423\n",
      "   macro avg       0.54      0.54      0.54      6423\n",
      "weighted avg       0.54      0.54      0.54      6423\n",
      "\n"
     ]
    }
   ],
   "source": [
    "prknn=precision_score(y_test,y_pred)\n",
    "print('Precision Score KNeighbors : ', prknn)\n",
    "\n",
    "rknn=recall_score(y_test,y_pred)\n",
    "print('Recall Score KNeighbors: ', rknn)\n",
    "\n",
    "\n",
    "aknn=accuracy_score(y_test,y_pred)\n",
    "print('Accuracy Score KNeighbors: ', aknn)\n",
    "\n",
    "\n",
    "Fknn=f1_score(y_test,y_pred)\n",
    "print('F1 Score KNeighbors: ',Fknn)\n",
    "\n",
    "print (classification_report(y_test,y_pred))"
   ]
  },
  {
   "cell_type": "code",
   "execution_count": 48,
   "metadata": {},
   "outputs": [],
   "source": [
    "# Model Number Four SVM\n",
    "from sklearn.svm import SVC\n",
    "classifierVC=SVC(kernel='linear',random_state=0)\n",
    "classifierVC.fit(X_train,y_train)\n",
    "y_predVC=classifierVC.predict(X_test)\n",
    "\n"
   ]
  },
  {
   "cell_type": "code",
   "execution_count": 49,
   "metadata": {},
   "outputs": [
    {
     "name": "stdout",
     "output_type": "stream",
     "text": [
      "Precision Score SVC :  0.5985157699443414\n",
      "Recall Score SVC:  0.5072327044025158\n",
      "Accuracy Score SVC:  0.5875758991125642\n",
      "F1 Score SVC:  0.5491063829787235\n",
      "              precision    recall  f1-score   support\n",
      "\n",
      "           0       0.58      0.67      0.62      3243\n",
      "           1       0.60      0.51      0.55      3180\n",
      "\n",
      "    accuracy                           0.59      6423\n",
      "   macro avg       0.59      0.59      0.58      6423\n",
      "weighted avg       0.59      0.59      0.58      6423\n",
      "\n"
     ]
    }
   ],
   "source": [
    "prsvc=precision_score(y_test,y_predVC)\n",
    "print('Precision Score SVC : ', prsvc)\n",
    "\n",
    "rsvc=recall_score(y_test,y_predVC)\n",
    "print('Recall Score SVC: ', rsvc)\n",
    "\n",
    "\n",
    "asvc=accuracy_score(y_test,y_predVC)\n",
    "print('Accuracy Score SVC: ', asvc)\n",
    "\n",
    "\n",
    "Fsvc=f1_score(y_test,y_predVC)\n",
    "print('F1 Score SVC: ',Fsvc)\n",
    "\n",
    "print (classification_report(y_test,y_predVC))"
   ]
  },
  {
   "cell_type": "code",
   "execution_count": 51,
   "metadata": {},
   "outputs": [],
   "source": [
    "## Model Number Five Decision Tree ##\n",
    "from sklearn.tree import DecisionTreeClassifier\n",
    "\n",
    "clf = DecisionTreeClassifier(criterion = \"entropy\", random_state = 100, \n",
    "            max_depth = 3, min_samples_leaf = 5)\n",
    "\n",
    "\n",
    "\n",
    "# Train Decision Tree Classifer\n",
    "clf = clf.fit(X_train,y_train)\n",
    "\n",
    "#Predict the response for test dataset\n",
    "y_predclf = clf.predict(X_test)\n"
   ]
  },
  {
   "cell_type": "code",
   "execution_count": 52,
   "metadata": {},
   "outputs": [
    {
     "name": "stdout",
     "output_type": "stream",
     "text": [
      "Precision Score Decision Tree :  0.5555964653902798\n",
      "Recall Score Decision Tree:  0.47452830188679246\n",
      "Accuracy Score SVC:  0.5519227775182937\n",
      "F1 Score SVC:  0.5118724559023066\n",
      "              precision    recall  f1-score   support\n",
      "\n",
      "           0       0.55      0.63      0.59      3243\n",
      "           1       0.56      0.47      0.51      3180\n",
      "\n",
      "    accuracy                           0.55      6423\n",
      "   macro avg       0.55      0.55      0.55      6423\n",
      "weighted avg       0.55      0.55      0.55      6423\n",
      "\n"
     ]
    }
   ],
   "source": [
    "prdt=precision_score(y_test,y_predclf)\n",
    "print('Precision Score Decision Tree : ', prdt)\n",
    "\n",
    "rdt=recall_score(y_test,y_predclf)\n",
    "print('Recall Score Decision Tree: ', rdt)\n",
    "\n",
    "\n",
    "adt=accuracy_score(y_test,y_predclf)\n",
    "print('Accuracy Score SVC: ', adt)\n",
    "\n",
    "\n",
    "Fdt=f1_score(y_test,y_predclf)\n",
    "print('F1 Score SVC: ',Fdt)\n",
    "\n",
    "print (classification_report(y_test,y_predclf))"
   ]
  },
  {
   "cell_type": "code",
   "execution_count": null,
   "metadata": {},
   "outputs": [],
   "source": []
  }
 ],
 "metadata": {
  "kernelspec": {
   "display_name": "Python 3",
   "language": "python",
   "name": "python3"
  },
  "language_info": {
   "codemirror_mode": {
    "name": "ipython",
    "version": 3
   },
   "file_extension": ".py",
   "mimetype": "text/x-python",
   "name": "python",
   "nbconvert_exporter": "python",
   "pygments_lexer": "ipython3",
   "version": "3.7.4"
  }
 },
 "nbformat": 4,
 "nbformat_minor": 2
}
